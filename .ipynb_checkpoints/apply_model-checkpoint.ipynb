{
 "cells": [
  {
   "cell_type": "code",
   "execution_count": 31,
   "id": "de05c44b",
   "metadata": {},
   "outputs": [],
   "source": [
    "from imageai.Detection.Custom import CustomVideoObjectDetection\n",
    "import numpy as np\n",
    "import pandas as pd\n",
    "import matplotlib.pyplot as plt\n",
    "import cv2 as cv"
   ]
  },
  {
   "cell_type": "code",
   "execution_count": 91,
   "id": "b3b1592e",
   "metadata": {},
   "outputs": [],
   "source": [
    "video_number = 1 ## 1-8\n",
    "pixel_length = 2.6 ## length of one pixel in mm\n",
    "width = 1920\n",
    "height = 1080"
   ]
  },
  {
   "cell_type": "code",
   "execution_count": 3,
   "id": "b51a9e54",
   "metadata": {},
   "outputs": [
    {
     "name": "stdout",
     "output_type": "stream",
     "text": [
      "Processing Frame :  1\n",
      "Processing Frame :  2\n",
      "Processing Frame :  3\n",
      "Processing Frame :  4\n",
      "Processing Frame :  5\n",
      "Processing Frame :  6\n",
      "Processing Frame :  7\n",
      "Processing Frame :  8\n",
      "Processing Frame :  9\n",
      "Processing Frame :  10\n",
      "Processing Frame :  11\n",
      "Processing Frame :  12\n",
      "Processing Frame :  13\n",
      "Processing Frame :  14\n",
      "Processing Frame :  15\n",
      "Processing Frame :  16\n",
      "Processing Frame :  17\n",
      "Processing Frame :  18\n",
      "Processing Frame :  19\n",
      "Processing Frame :  20\n",
      "Processing Frame :  21\n",
      "Processing Frame :  22\n",
      "Processing Frame :  23\n",
      "Processing Frame :  24\n",
      "Processing Frame :  25\n",
      "Processing Frame :  26\n",
      "Processing Frame :  27\n",
      "Processing Frame :  28\n",
      "Processing Frame :  29\n",
      "Processing Frame :  30\n",
      "Processing Frame :  31\n",
      "Processing Frame :  32\n",
      "Processing Frame :  33\n",
      "Processing Frame :  34\n",
      "Processing Frame :  35\n",
      "Processing Frame :  36\n",
      "Processing Frame :  37\n",
      "Processing Frame :  38\n",
      "Processing Frame :  39\n",
      "Processing Frame :  40\n",
      "Processing Frame :  41\n",
      "Processing Frame :  42\n",
      "Processing Frame :  43\n",
      "Processing Frame :  44\n",
      "Processing Frame :  45\n",
      "Processing Frame :  46\n",
      "Processing Frame :  47\n",
      "Processing Frame :  48\n",
      "Processing Frame :  49\n",
      "Processing Frame :  50\n",
      "Processing Frame :  51\n",
      "Processing Frame :  52\n",
      "Processing Frame :  53\n",
      "Processing Frame :  54\n",
      "Processing Frame :  55\n",
      "Processing Frame :  56\n",
      "Processing Frame :  57\n",
      "Processing Frame :  58\n",
      "Processing Frame :  59\n",
      "Processing Frame :  60\n",
      "Processing Frame :  61\n",
      "Processing Frame :  62\n",
      "Processing Frame :  63\n",
      "Processing Frame :  64\n",
      "Processing Frame :  65\n",
      "Processing Frame :  66\n",
      "Processing Frame :  67\n",
      "Processing Frame :  68\n",
      "Processing Frame :  69\n",
      "Processing Frame :  70\n",
      "Processing Frame :  71\n",
      "Processing Frame :  72\n",
      "Processing Frame :  73\n",
      "Processing Frame :  74\n",
      "Processing Frame :  75\n",
      "Processing Frame :  76\n",
      "Processing Frame :  77\n",
      "Processing Frame :  78\n",
      "Processing Frame :  79\n",
      "Processing Frame :  80\n",
      "Processing Frame :  81\n",
      "Processing Frame :  82\n",
      "Processing Frame :  83\n",
      "Processing Frame :  84\n",
      "Processing Frame :  85\n",
      "Processing Frame :  86\n",
      "Processing Frame :  87\n",
      "Processing Frame :  88\n",
      "Processing Frame :  89\n",
      "Processing Frame :  90\n",
      "Processing Frame :  91\n",
      "Processing Frame :  92\n",
      "Processing Frame :  93\n",
      "Processing Frame :  94\n",
      "Processing Frame :  95\n",
      "Processing Frame :  96\n",
      "Processing Frame :  97\n",
      "Processing Frame :  98\n",
      "Processing Frame :  99\n",
      "Processing Frame :  100\n",
      "Processing Frame :  101\n",
      "Processing Frame :  102\n",
      "Processing Frame :  103\n",
      "Processing Frame :  104\n",
      "Processing Frame :  105\n",
      "Processing Frame :  106\n",
      "Processing Frame :  107\n",
      "Processing Frame :  108\n",
      "Processing Frame :  109\n",
      "Processing Frame :  110\n",
      "Processing Frame :  111\n",
      "Processing Frame :  112\n",
      "Processing Frame :  113\n",
      "Processing Frame :  114\n",
      "Processing Frame :  115\n",
      "Processing Frame :  116\n",
      "Processing Frame :  117\n",
      "Processing Frame :  118\n",
      "Processing Frame :  119\n",
      "Processing Frame :  120\n",
      "Processing Frame :  121\n",
      "Processing Frame :  122\n",
      "Processing Frame :  123\n",
      "Processing Frame :  124\n",
      "Processing Frame :  125\n",
      "Processing Frame :  126\n",
      "Processing Frame :  127\n",
      "Processing Frame :  128\n",
      "Processing Frame :  129\n",
      "Processing Frame :  130\n",
      "Processing Frame :  131\n",
      "Processing Frame :  132\n",
      "Processing Frame :  133\n",
      "Processing Frame :  134\n",
      "Processing Frame :  135\n",
      "Processing Frame :  136\n",
      "Processing Frame :  137\n",
      "Processing Frame :  138\n",
      "Processing Frame :  139\n",
      "Processing Frame :  140\n",
      "Processing Frame :  141\n",
      "Processing Frame :  142\n",
      "Processing Frame :  143\n",
      "Processing Frame :  144\n",
      "Processing Frame :  145\n",
      "Processing Frame :  146\n",
      "Processing Frame :  147\n",
      "Processing Frame :  148\n",
      "Processing Frame :  149\n",
      "Processing Frame :  150\n",
      "Processing Frame :  151\n",
      "Processing Frame :  152\n",
      "Processing Frame :  153\n",
      "Processing Frame :  154\n",
      "Processing Frame :  155\n",
      "Processing Frame :  156\n",
      "Processing Frame :  157\n",
      "Processing Frame :  158\n",
      "Processing Frame :  159\n",
      "Processing Frame :  160\n",
      "Processing Frame :  161\n",
      "Processing Frame :  162\n",
      "Processing Frame :  163\n",
      "Processing Frame :  164\n",
      "Processing Frame :  165\n",
      "Processing Frame :  166\n",
      "Processing Frame :  167\n",
      "Processing Frame :  168\n",
      "Processing Frame :  169\n",
      "Processing Frame :  170\n",
      "Processing Frame :  171\n",
      "Processing Frame :  172\n",
      "Processing Frame :  173\n",
      "Processing Frame :  174\n",
      "Processing Frame :  175\n",
      "Processing Frame :  176\n",
      "Processing Frame :  177\n",
      "Processing Frame :  178\n",
      "Processing Frame :  179\n",
      "Processing Frame :  180\n",
      "Processing Frame :  181\n",
      "Processing Frame :  182\n",
      "Processing Frame :  183\n",
      "Processing Frame :  184\n",
      "Processing Frame :  185\n",
      "Processing Frame :  186\n",
      "Processing Frame :  187\n",
      "Processing Frame :  188\n",
      "Processing Frame :  189\n",
      "Processing Frame :  190\n",
      "Processing Frame :  191\n",
      "Processing Frame :  192\n",
      "Processing Frame :  193\n",
      "Processing Frame :  194\n",
      "Processing Frame :  195\n",
      "Processing Frame :  196\n",
      "Processing Frame :  197\n",
      "Processing Frame :  198\n",
      "Processing Frame :  199\n",
      "Processing Frame :  200\n",
      "Processing Frame :  201\n",
      "Processing Frame :  202\n",
      "Processing Frame :  203\n",
      "Processing Frame :  204\n",
      "Processing Frame :  205\n",
      "Processing Frame :  206\n",
      "Processing Frame :  207\n",
      "Processing Frame :  208\n",
      "Processing Frame :  209\n",
      "Processing Frame :  210\n",
      "Processing Frame :  211\n",
      "Processing Frame :  212\n",
      "Processing Frame :  213\n",
      "Processing Frame :  214\n",
      "Processing Frame :  215\n",
      "Processing Frame :  216\n",
      "Processing Frame :  217\n",
      "Processing Frame :  218\n",
      "Processing Frame :  219\n",
      "Processing Frame :  220\n",
      "Processing Frame :  221\n",
      "Processing Frame :  222\n",
      "Processing Frame :  223\n",
      "Processing Frame :  224\n",
      "Processing Frame :  225\n",
      "Processing Frame :  226\n",
      "Processing Frame :  227\n",
      "Processing Frame :  228\n",
      "Processing Frame :  229\n",
      "Processing Frame :  230\n",
      "Processing Frame :  231\n",
      "Processing Frame :  232\n",
      "Processing Frame :  233\n",
      "Processing Frame :  234\n",
      "Processing Frame :  235\n",
      "Processing Frame :  236\n",
      "Processing Frame :  237\n",
      "Processing Frame :  238\n",
      "Processing Frame :  239\n",
      "Processing Frame :  240\n",
      "Processing Frame :  241\n",
      "Processing Frame :  242\n",
      "Processing Frame :  243\n",
      "Processing Frame :  244\n",
      "Processing Frame :  245\n",
      "Processing Frame :  246\n",
      "Processing Frame :  247\n",
      "Processing Frame :  248\n",
      "Processing Frame :  249\n",
      "Processing Frame :  250\n",
      "Processing Frame :  251\n",
      "Processing Frame :  252\n",
      "Processing Frame :  253\n",
      "Processing Frame :  254\n",
      "Processing Frame :  255\n",
      "Processing Frame :  256\n",
      "Processing Frame :  257\n",
      "Processing Frame :  258\n",
      "Processing Frame :  259\n",
      "Processing Frame :  260\n",
      "Processing Frame :  261\n",
      "Processing Frame :  262\n",
      "Processing Frame :  263\n",
      "Processing Frame :  264\n",
      "Processing Frame :  265\n",
      "Processing Frame :  266\n",
      "Processing Frame :  267\n",
      "Processing Frame :  268\n",
      "Processing Frame :  269\n",
      "Processing Frame :  270\n",
      "Processing Frame :  271\n",
      "Processing Frame :  272\n",
      "Processing Frame :  273\n",
      "Processing Frame :  274\n",
      "Processing Frame :  275\n",
      "Processing Frame :  276\n",
      "Processing Frame :  277\n",
      "Processing Frame :  278\n",
      "Processing Frame :  279\n",
      "Processing Frame :  280\n",
      "Processing Frame :  281\n",
      "Processing Frame :  282\n",
      "Processing Frame :  283\n",
      "Processing Frame :  284\n",
      "Processing Frame :  285\n",
      "Processing Frame :  286\n",
      "Processing Frame :  287\n",
      "Processing Frame :  288\n",
      "Processing Frame :  289\n",
      "Processing Frame :  290\n",
      "Processing Frame :  291\n",
      "Processing Frame :  292\n",
      "Processing Frame :  293\n",
      "Processing Frame :  294\n",
      "Processing Frame :  295\n",
      "Processing Frame :  296\n",
      "Processing Frame :  297\n",
      "Processing Frame :  298\n",
      "Processing Frame :  299\n",
      "Processing Frame :  300\n",
      "Processing Frame :  301\n",
      "Processing Frame :  302\n",
      "Processing Frame :  303\n",
      "Processing Frame :  304\n",
      "Processing Frame :  305\n",
      "Processing Frame :  306\n",
      "Processing Frame :  307\n",
      "Processing Frame :  308\n",
      "Processing Frame :  309\n",
      "Processing Frame :  310\n"
     ]
    },
    {
     "data": {
      "text/plain": [
       "'videos/video_1_d.mp4.avi'"
      ]
     },
     "execution_count": 3,
     "metadata": {},
     "output_type": "execute_result"
    }
   ],
   "source": [
    "frame_list = []\n",
    "\n",
    "def forFrame(frame_number, output_array, output_count):\n",
    "  if len(output_array) == 0:\n",
    "    frame_list.append({'name': 'bar', 'percentage_probability': 0.0, 'box_points': [np.nan, np.nan, np.nan, np.nan]})\n",
    "  else:\n",
    "    frame_list.append(output_array[0])\n",
    "\n",
    "\n",
    "video_detector = CustomVideoObjectDetection()\n",
    "video_detector.setModelTypeAsYOLOv3()\n",
    "video_detector.setModelPath(\"bar/models/detection_model-ex-022--loss-0006.919.h5\")\n",
    "video_detector.setJsonPath(\"bar/json/detection_config.json\")\n",
    "video_detector.loadModel()\n",
    "\n",
    "video_detector.detectObjectsFromVideo(input_file_path=\"videos/video_{}.mp4\".format(video_number),\n",
    "                                      output_file_path=\"videos/video_{}_d.mp4\".format(video_number),\n",
    "                                          frames_per_second=30,\n",
    "                                          minimum_percentage_probability=30,\n",
    "                                          log_progress=False,\n",
    "                                          per_frame_function = forFrame)"
   ]
  },
  {
   "cell_type": "code",
   "execution_count": 59,
   "id": "61bc7bb9",
   "metadata": {},
   "outputs": [
    {
     "data": {
      "text/html": [
       "<div>\n",
       "<style scoped>\n",
       "    .dataframe tbody tr th:only-of-type {\n",
       "        vertical-align: middle;\n",
       "    }\n",
       "\n",
       "    .dataframe tbody tr th {\n",
       "        vertical-align: top;\n",
       "    }\n",
       "\n",
       "    .dataframe thead th {\n",
       "        text-align: right;\n",
       "    }\n",
       "</style>\n",
       "<table border=\"1\" class=\"dataframe\">\n",
       "  <thead>\n",
       "    <tr style=\"text-align: right;\">\n",
       "      <th></th>\n",
       "      <th>left</th>\n",
       "      <th>top</th>\n",
       "      <th>right</th>\n",
       "      <th>bottom</th>\n",
       "    </tr>\n",
       "  </thead>\n",
       "  <tbody>\n",
       "    <tr>\n",
       "      <th>0</th>\n",
       "      <td>503.0</td>\n",
       "      <td>765.0</td>\n",
       "      <td>1402.0</td>\n",
       "      <td>957.0</td>\n",
       "    </tr>\n",
       "    <tr>\n",
       "      <th>1</th>\n",
       "      <td>502.0</td>\n",
       "      <td>765.0</td>\n",
       "      <td>1403.0</td>\n",
       "      <td>957.0</td>\n",
       "    </tr>\n",
       "    <tr>\n",
       "      <th>2</th>\n",
       "      <td>500.0</td>\n",
       "      <td>765.0</td>\n",
       "      <td>1405.0</td>\n",
       "      <td>957.0</td>\n",
       "    </tr>\n",
       "    <tr>\n",
       "      <th>3</th>\n",
       "      <td>500.0</td>\n",
       "      <td>765.0</td>\n",
       "      <td>1405.0</td>\n",
       "      <td>957.0</td>\n",
       "    </tr>\n",
       "    <tr>\n",
       "      <th>4</th>\n",
       "      <td>501.0</td>\n",
       "      <td>765.0</td>\n",
       "      <td>1404.0</td>\n",
       "      <td>957.0</td>\n",
       "    </tr>\n",
       "  </tbody>\n",
       "</table>\n",
       "</div>"
      ],
      "text/plain": [
       "    left    top   right  bottom\n",
       "0  503.0  765.0  1402.0   957.0\n",
       "1  502.0  765.0  1403.0   957.0\n",
       "2  500.0  765.0  1405.0   957.0\n",
       "3  500.0  765.0  1405.0   957.0\n",
       "4  501.0  765.0  1404.0   957.0"
      ]
     },
     "execution_count": 59,
     "metadata": {},
     "output_type": "execute_result"
    }
   ],
   "source": [
    "df = pd.DataFrame([d['box_points'] for d in frame_list])\n",
    "df.columns = ['left', 'top', 'right', 'bottom']\n",
    "df.head()"
   ]
  },
  {
   "cell_type": "code",
   "execution_count": 60,
   "id": "4c8e1f01",
   "metadata": {},
   "outputs": [
    {
     "data": {
      "text/plain": [
       "[<matplotlib.lines.Line2D at 0x22fa690d1f0>]"
      ]
     },
     "execution_count": 60,
     "metadata": {},
     "output_type": "execute_result"
    },
    {
     "data": {
      "image/png": "[encoded data removed]",
      "text/plain": [
       "<Figure size 432x288 with 1 Axes>"
      ]
     },
     "metadata": {
      "needs_background": "light"
     },
     "output_type": "display_data"
    }
   ],
   "source": [
    "df['position'] = df[['bottom', 'top']].mean(axis=1)\n",
    "df['position_mm'] = - (df['position'] - df.loc[df.first_valid_index(), 'position']) * pixel_length\n",
    "plt.plot(df['position_mm'])"
   ]
  },
  {
   "cell_type": "code",
   "execution_count": 61,
   "id": "d65b53e1",
   "metadata": {},
   "outputs": [],
   "source": [
    "def test_plausability(index, n_past):\n",
    "    for n in range(1, n_past+1):\n",
    "        speed = (df.loc[index, 'position_mm'] - df.loc[index-n, 'position_mm']) * 30 / 1000 / n\n",
    "        if(abs(speed) > 10):\n",
    "            print('Row {} implausible'.format(index))\n",
    "            return False\n",
    "    return True\n",
    "    \n",
    "\n",
    "for i in range(1, len(df)):\n",
    "    if not test_plausability(i, min(i, 10)):\n",
    "        df.loc[i, 'position_mm'] = np.nan\n",
    "        print(i)"
   ]
  },
  {
   "cell_type": "code",
   "execution_count": 62,
   "id": "b0653c90",
   "metadata": {},
   "outputs": [
    {
     "data": {
      "text/plain": [
       "[[96, 97, 98, 99, 100, 101, 102],\n",
       " [276],\n",
       " [282, 283, 284, 285, 286],\n",
       " [288],\n",
       " [302, 303, 304],\n",
       " [306, 307]]"
      ]
     },
     "execution_count": 62,
     "metadata": {},
     "output_type": "execute_result"
    }
   ],
   "source": [
    "null_rows = [index for index, row in df.iterrows() if row.isnull().any()]\n",
    "\n",
    "null_epochs = []\n",
    "epoch = []\n",
    "for i in range(0, len(null_rows)):\n",
    "\n",
    "    if (null_rows[i] - 1 == null_rows[i-1]):\n",
    "        epoch.append(null_rows[i])\n",
    "    else:\n",
    "        null_epochs.append(epoch)\n",
    "        epoch=[null_rows[i]]\n",
    "\n",
    "\n",
    "null_epochs.append(epoch) ## append last epoch after loop\n",
    "null_epochs.pop(0) ##drop first (empty) epoch\n",
    "if(0 in null_epochs[0]):\n",
    "    null_epochs.pop(0) ##drop first real epoch\n",
    "if((len(df)-1) in null_epochs[-1]):\n",
    "    null_epochs.pop(-1)\n",
    "\n",
    "null_epochs   "
   ]
  },
  {
   "cell_type": "code",
   "execution_count": 63,
   "id": "01326072",
   "metadata": {},
   "outputs": [
    {
     "data": {
      "text/plain": [
       "[<matplotlib.lines.Line2D at 0x22fa4d19af0>]"
      ]
     },
     "execution_count": 63,
     "metadata": {},
     "output_type": "execute_result"
    },
    {
     "data": {
      "image/png": "[encoded data removed]",
      "text/plain": [
       "<Figure size 432x288 with 1 Axes>"
      ]
     },
     "metadata": {
      "needs_background": "light"
     },
     "output_type": "display_data"
    }
   ],
   "source": [
    "def interpolate_position(indices):\n",
    "    l = len(indices)\n",
    "\n",
    "    start = df.loc[indices[0]-1, 'position_mm']\n",
    "    end = df.loc[indices[l-1]+1, 'position_mm']\n",
    "    \n",
    "    step = (end-start)/(l+1)\n",
    "\n",
    "    new_positions = [start + i*step for i in range(1,l+1)]\n",
    "    return(new_positions)\n",
    "  \n",
    "\n",
    "for epoch in null_epochs:\n",
    "    df.loc[epoch, 'position_mm'] = interpolate_position(epoch)\n",
    "    \n",
    "plt.plot(df['position_mm'])"
   ]
  },
  {
   "cell_type": "code",
   "execution_count": 64,
   "id": "7b52e568",
   "metadata": {},
   "outputs": [
    {
     "data": {
      "text/plain": [
       "[<matplotlib.lines.Line2D at 0x22fa68bf880>]"
      ]
     },
     "execution_count": 64,
     "metadata": {},
     "output_type": "execute_result"
    },
    {
     "data": {
      "image/png": "[encoded data removed]",
      "text/plain": [
       "<Figure size 432x288 with 1 Axes>"
      ]
     },
     "metadata": {
      "needs_background": "light"
     },
     "output_type": "display_data"
    }
   ],
   "source": [
    "df['position_mm'] = df['position_mm'].rolling(3, min_periods=1).mean()\n",
    "plt.plot(df['position_mm'])"
   ]
  },
  {
   "cell_type": "code",
   "execution_count": 76,
   "id": "9798dff2",
   "metadata": {},
   "outputs": [
    {
     "data": {
      "text/plain": [
       "[<matplotlib.lines.Line2D at 0x22fad08efd0>]"
      ]
     },
     "execution_count": 76,
     "metadata": {},
     "output_type": "execute_result"
    },
    {
     "data": {
      "image/png": "[encoded data removed]",
      "text/plain": [
       "<Figure size 432x288 with 1 Axes>"
      ]
     },
     "metadata": {
      "needs_background": "light"
     },
     "output_type": "display_data"
    }
   ],
   "source": [
    "df['position_reversed'] = df.loc[df.first_valid_index(), 'position'] - df['position_mm'] / pixel_length\n",
    "\n",
    "plt.plot(df['position_reversed'])\n",
    "plt.plot(df['position'])"
   ]
  },
  {
   "cell_type": "code",
   "execution_count": 88,
   "id": "0b816d31",
   "metadata": {},
   "outputs": [
    {
     "data": {
      "text/plain": [
       "[<matplotlib.lines.Line2D at 0x22fad28fee0>]"
      ]
     },
     "execution_count": 88,
     "metadata": {},
     "output_type": "execute_result"
    },
    {
     "data": {
      "image/png": "[encoded data removed]",
      "text/plain": [
       "<Figure size 432x288 with 1 Axes>"
      ]
     },
     "metadata": {
      "needs_background": "light"
     },
     "output_type": "display_data"
    }
   ],
   "source": [
    "df['speed_ms'] = df['position_mm'].diff(1) * 30 / 1000\n",
    "df.loc[(df['speed_ms'] < 0.1) & (df['speed_ms'] > -0.1), 'speed_ms'] = 0.0\n",
    "df['speed_ms'].fillna(0.0, inplace=True)\n",
    "plt.plot(df['speed_ms'])"
   ]
  },
  {
   "cell_type": "code",
   "execution_count": 67,
   "id": "2ed1956e",
   "metadata": {},
   "outputs": [
    {
     "data": {
      "text/plain": [
       "-1.1006666666666798"
      ]
     },
     "execution_count": 67,
     "metadata": {},
     "output_type": "execute_result"
    },
    {
     "data": {
      "image/png": "[encoded data removed]",
      "text/plain": [
       "<Figure size 432x288 with 1 Axes>"
      ]
     },
     "metadata": {
      "needs_background": "light"
     },
     "output_type": "display_data"
    }
   ],
   "source": [
    "df['acceleration_ms2'] = df['speed_ms'].diff(1)\n",
    "plt.plot(df['acceleration_ms2'])\n",
    "df['acceleration_ms2'].min()"
   ]
  },
  {
   "cell_type": "code",
   "execution_count": 68,
   "id": "71c94595",
   "metadata": {},
   "outputs": [],
   "source": [
    "def get_movement_info(frame):\n",
    "    stats = df.loc[int(frame / 10) * 10] ## update every tenth frame\n",
    "    return(stats)"
   ]
  },
  {
   "cell_type": "code",
   "execution_count": 95,
   "id": "d007decd",
   "metadata": {},
   "outputs": [
    {
     "name": "stdout",
     "output_type": "stream",
     "text": [
      "Can't receive frame (stream end?). Exiting ...\n"
     ]
    }
   ],
   "source": [
    "cap = cv.VideoCapture('videos/video_{}.mp4'.format(video_number))\n",
    "out = cv.VideoWriter('videos/video_{}_f.mp4'.format(video_number), cv.VideoWriter_fourcc(*'MP4V'), 30.0, (width,height))\n",
    "\n",
    "while cap.isOpened():\n",
    "    ret, frame = cap.read()\n",
    "    # if frame is read correctly ret is True\n",
    "    if not ret:\n",
    "        print(\"Can't receive frame (stream end?). Exiting ...\")\n",
    "        break\n",
    "\n",
    "    frame_number = int(cap.get(cv.CAP_PROP_POS_FRAMES)) - 1\n",
    "    pos = df.loc[frame_number]\n",
    "    movement = get_movement_info(frame_number)\n",
    "    \n",
    "    if(pos[0] == pos[0]):\n",
    "        frame = cv.rectangle(frame, (int(pos[0]), int(pos[1])), (int(pos[2]), int(pos[3])), (255,0,0), 1)\n",
    "    \n",
    "    ### height marker\n",
    "    frame = cv.line(frame, (0,int(pos[6])),(50,int(pos[6])),(255,0,0),3)\n",
    "    frame = cv.putText(frame, str(int(pos[5]) + 225), (10, int(pos[6] - 20)), cv.FONT_HERSHEY_SIMPLEX, 1, (255, 0, 0), 1, cv.LINE_AA)\n",
    "    frame = cv.putText(frame, 'mm', (10, int(pos[6] + 40)), cv.FONT_HERSHEY_SIMPLEX, 1, (255, 0, 0), 1, cv.LINE_AA)\n",
    "    \n",
    "    out.write(frame)\n",
    "    #cv.imshow('frame', frame)\n",
    "    if cv.waitKey(1) == ord('q'):\n",
    "        break\n",
    "cap.release()\n",
    "out.release()\n",
    "cv.destroyAllWindows()"
   ]
  },
  {
   "cell_type": "code",
   "execution_count": 77,
   "id": "d05fc6fd",
   "metadata": {},
   "outputs": [
    {
     "data": {
      "text/html": [
       "<div>\n",
       "<style scoped>\n",
       "    .dataframe tbody tr th:only-of-type {\n",
       "        vertical-align: middle;\n",
       "    }\n",
       "\n",
       "    .dataframe tbody tr th {\n",
       "        vertical-align: top;\n",
       "    }\n",
       "\n",
       "    .dataframe thead th {\n",
       "        text-align: right;\n",
       "    }\n",
       "</style>\n",
       "<table border=\"1\" class=\"dataframe\">\n",
       "  <thead>\n",
       "    <tr style=\"text-align: right;\">\n",
       "      <th></th>\n",
       "      <th>left</th>\n",
       "      <th>top</th>\n",
       "      <th>right</th>\n",
       "      <th>bottom</th>\n",
       "      <th>position</th>\n",
       "      <th>position_mm</th>\n",
       "      <th>position_reversed</th>\n",
       "      <th>speed_ms</th>\n",
       "      <th>acceleration_ms2</th>\n",
       "    </tr>\n",
       "  </thead>\n",
       "  <tbody>\n",
       "    <tr>\n",
       "      <th>0</th>\n",
       "      <td>503.0</td>\n",
       "      <td>765.0</td>\n",
       "      <td>1402.0</td>\n",
       "      <td>957.0</td>\n",
       "      <td>861.0</td>\n",
       "      <td>0.000000</td>\n",
       "      <td>861.000000</td>\n",
       "      <td>NaN</td>\n",
       "      <td>NaN</td>\n",
       "    </tr>\n",
       "    <tr>\n",
       "      <th>1</th>\n",
       "      <td>502.0</td>\n",
       "      <td>765.0</td>\n",
       "      <td>1403.0</td>\n",
       "      <td>957.0</td>\n",
       "      <td>861.0</td>\n",
       "      <td>0.000000</td>\n",
       "      <td>861.000000</td>\n",
       "      <td>0.00000</td>\n",
       "      <td>NaN</td>\n",
       "    </tr>\n",
       "    <tr>\n",
       "      <th>2</th>\n",
       "      <td>500.0</td>\n",
       "      <td>765.0</td>\n",
       "      <td>1405.0</td>\n",
       "      <td>957.0</td>\n",
       "      <td>861.0</td>\n",
       "      <td>0.000000</td>\n",
       "      <td>861.000000</td>\n",
       "      <td>0.00000</td>\n",
       "      <td>0.000000e+00</td>\n",
       "    </tr>\n",
       "    <tr>\n",
       "      <th>3</th>\n",
       "      <td>500.0</td>\n",
       "      <td>765.0</td>\n",
       "      <td>1405.0</td>\n",
       "      <td>957.0</td>\n",
       "      <td>861.0</td>\n",
       "      <td>0.000000</td>\n",
       "      <td>861.000000</td>\n",
       "      <td>0.00000</td>\n",
       "      <td>0.000000e+00</td>\n",
       "    </tr>\n",
       "    <tr>\n",
       "      <th>4</th>\n",
       "      <td>501.0</td>\n",
       "      <td>765.0</td>\n",
       "      <td>1404.0</td>\n",
       "      <td>957.0</td>\n",
       "      <td>861.0</td>\n",
       "      <td>0.000000</td>\n",
       "      <td>861.000000</td>\n",
       "      <td>0.00000</td>\n",
       "      <td>0.000000e+00</td>\n",
       "    </tr>\n",
       "    <tr>\n",
       "      <th>...</th>\n",
       "      <td>...</td>\n",
       "      <td>...</td>\n",
       "      <td>...</td>\n",
       "      <td>...</td>\n",
       "      <td>...</td>\n",
       "      <td>...</td>\n",
       "      <td>...</td>\n",
       "      <td>...</td>\n",
       "      <td>...</td>\n",
       "    </tr>\n",
       "    <tr>\n",
       "      <th>305</th>\n",
       "      <td>587.0</td>\n",
       "      <td>732.0</td>\n",
       "      <td>1451.0</td>\n",
       "      <td>883.0</td>\n",
       "      <td>807.5</td>\n",
       "      <td>168.025000</td>\n",
       "      <td>796.375000</td>\n",
       "      <td>-0.86775</td>\n",
       "      <td>-7.771561e-16</td>\n",
       "    </tr>\n",
       "    <tr>\n",
       "      <th>306</th>\n",
       "      <td>NaN</td>\n",
       "      <td>NaN</td>\n",
       "      <td>NaN</td>\n",
       "      <td>NaN</td>\n",
       "      <td>NaN</td>\n",
       "      <td>132.708333</td>\n",
       "      <td>809.958333</td>\n",
       "      <td>-1.05950</td>\n",
       "      <td>-1.917500e-01</td>\n",
       "    </tr>\n",
       "    <tr>\n",
       "      <th>307</th>\n",
       "      <td>NaN</td>\n",
       "      <td>NaN</td>\n",
       "      <td>NaN</td>\n",
       "      <td>NaN</td>\n",
       "      <td>NaN</td>\n",
       "      <td>91.000000</td>\n",
       "      <td>826.000000</td>\n",
       "      <td>-1.25125</td>\n",
       "      <td>-1.917500e-01</td>\n",
       "    </tr>\n",
       "    <tr>\n",
       "      <th>308</th>\n",
       "      <td>622.0</td>\n",
       "      <td>775.0</td>\n",
       "      <td>1406.0</td>\n",
       "      <td>951.0</td>\n",
       "      <td>863.0</td>\n",
       "      <td>42.900000</td>\n",
       "      <td>844.500000</td>\n",
       "      <td>-1.44300</td>\n",
       "      <td>-1.917500e-01</td>\n",
       "    </tr>\n",
       "    <tr>\n",
       "      <th>309</th>\n",
       "      <td>622.0</td>\n",
       "      <td>775.0</td>\n",
       "      <td>1406.0</td>\n",
       "      <td>951.0</td>\n",
       "      <td>863.0</td>\n",
       "      <td>10.833333</td>\n",
       "      <td>856.833333</td>\n",
       "      <td>-0.96200</td>\n",
       "      <td>4.810000e-01</td>\n",
       "    </tr>\n",
       "  </tbody>\n",
       "</table>\n",
       "<p>310 rows × 9 columns</p>\n",
       "</div>"
      ],
      "text/plain": [
       "      left    top   right  bottom  position  position_mm  position_reversed  \\\n",
       "0    503.0  765.0  1402.0   957.0     861.0     0.000000         861.000000   \n",
       "1    502.0  765.0  1403.0   957.0     861.0     0.000000         861.000000   \n",
       "2    500.0  765.0  1405.0   957.0     861.0     0.000000         861.000000   \n",
       "3    500.0  765.0  1405.0   957.0     861.0     0.000000         861.000000   \n",
       "4    501.0  765.0  1404.0   957.0     861.0     0.000000         861.000000   \n",
       "..     ...    ...     ...     ...       ...          ...                ...   \n",
       "305  587.0  732.0  1451.0   883.0     807.5   168.025000         796.375000   \n",
       "306    NaN    NaN     NaN     NaN       NaN   132.708333         809.958333   \n",
       "307    NaN    NaN     NaN     NaN       NaN    91.000000         826.000000   \n",
       "308  622.0  775.0  1406.0   951.0     863.0    42.900000         844.500000   \n",
       "309  622.0  775.0  1406.0   951.0     863.0    10.833333         856.833333   \n",
       "\n",
       "     speed_ms  acceleration_ms2  \n",
       "0         NaN               NaN  \n",
       "1     0.00000               NaN  \n",
       "2     0.00000      0.000000e+00  \n",
       "3     0.00000      0.000000e+00  \n",
       "4     0.00000      0.000000e+00  \n",
       "..        ...               ...  \n",
       "305  -0.86775     -7.771561e-16  \n",
       "306  -1.05950     -1.917500e-01  \n",
       "307  -1.25125     -1.917500e-01  \n",
       "308  -1.44300     -1.917500e-01  \n",
       "309  -0.96200      4.810000e-01  \n",
       "\n",
       "[310 rows x 9 columns]"
      ]
     },
     "execution_count": 77,
     "metadata": {},
     "output_type": "execute_result"
    }
   ],
   "source": [
    "df"
   ]
  },
  {
   "cell_type": "code",
   "execution_count": null,
   "id": "e3f01cc1",
   "metadata": {},
   "outputs": [],
   "source": []
  }
 ],
 "metadata": {
  "kernelspec": {
   "display_name": "Python 3",
   "language": "python",
   "name": "python3"
  },
  "language_info": {
   "codemirror_mode": {
    "name": "ipython",
    "version": 3
   },
   "file_extension": ".py",
   "mimetype": "text/x-python",
   "name": "python",
   "nbconvert_exporter": "python",
   "pygments_lexer": "ipython3",
   "version": "3.8.8"
  }
 },
 "nbformat": 4,
 "nbformat_minor": 5
}
