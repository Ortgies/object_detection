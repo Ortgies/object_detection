{
 "cells": [
  {
   "cell_type": "code",
   "execution_count": 1,
   "id": "de05c44b",
   "metadata": {},
   "outputs": [],
   "source": [
    "from imageai.Detection.Custom import CustomVideoObjectDetection\n",
    "import numpy as np\n",
    "import pandas as pd\n",
    "import matplotlib.pyplot as plt\n",
    "import cv2 as cv"
   ]
  },
  {
   "cell_type": "code",
   "execution_count": 41,
   "id": "b3b1592e",
   "metadata": {},
   "outputs": [],
   "source": [
    "video_number = 3 ## 1-8\n",
    "pixel_length = 2.8 ## length of one pixel in mm\n",
    "width = 1920\n",
    "height = 1080"
   ]
  },
  {
   "cell_type": "code",
   "execution_count": 3,
   "id": "b51a9e54",
   "metadata": {},
   "outputs": [
    {
     "data": {
      "text/plain": [
       "'videos/video_3_d.mp4.avi'"
      ]
     },
     "execution_count": 3,
     "metadata": {},
     "output_type": "execute_result"
    }
   ],
   "source": [
    "frame_list = []\n",
    "\n",
    "def forFrame(frame_number, output_array, output_count):\n",
    "  if len(output_array) == 0:\n",
    "    frame_list.append({'name': 'bar', 'percentage_probability': 0.0, 'box_points': [np.nan, np.nan, np.nan, np.nan]})\n",
    "  else:\n",
    "    frame_list.append(output_array[0])\n",
    "\n",
    "\n",
    "video_detector = CustomVideoObjectDetection()\n",
    "video_detector.setModelTypeAsYOLOv3()\n",
    "video_detector.setModelPath(\"bar/models/detection_model-ex-022--loss-0006.919.h5\")\n",
    "video_detector.setJsonPath(\"bar/json/detection_config.json\")\n",
    "video_detector.loadModel()\n",
    "\n",
    "video_detector.detectObjectsFromVideo(input_file_path=\"videos/video_{}.mp4\".format(video_number),\n",
    "                                      output_file_path=\"videos/video_{}_d.mp4\".format(video_number),\n",
    "                                          frames_per_second=30,\n",
    "                                          minimum_percentage_probability=30,\n",
    "                                          log_progress=False,\n",
    "                                          per_frame_function = forFrame)"
   ]
  },
  {
   "cell_type": "code",
   "execution_count": 42,
   "id": "61bc7bb9",
   "metadata": {},
   "outputs": [
    {
     "data": {
      "text/html": [
       "<div>\n",
       "<style scoped>\n",
       "    .dataframe tbody tr th:only-of-type {\n",
       "        vertical-align: middle;\n",
       "    }\n",
       "\n",
       "    .dataframe tbody tr th {\n",
       "        vertical-align: top;\n",
       "    }\n",
       "\n",
       "    .dataframe thead th {\n",
       "        text-align: right;\n",
       "    }\n",
       "</style>\n",
       "<table border=\"1\" class=\"dataframe\">\n",
       "  <thead>\n",
       "    <tr style=\"text-align: right;\">\n",
       "      <th></th>\n",
       "      <th>left</th>\n",
       "      <th>top</th>\n",
       "      <th>right</th>\n",
       "      <th>bottom</th>\n",
       "    </tr>\n",
       "  </thead>\n",
       "  <tbody>\n",
       "    <tr>\n",
       "      <th>0</th>\n",
       "      <td>478.0</td>\n",
       "      <td>764.0</td>\n",
       "      <td>1519.0</td>\n",
       "      <td>969.0</td>\n",
       "    </tr>\n",
       "    <tr>\n",
       "      <th>1</th>\n",
       "      <td>478.0</td>\n",
       "      <td>764.0</td>\n",
       "      <td>1519.0</td>\n",
       "      <td>969.0</td>\n",
       "    </tr>\n",
       "    <tr>\n",
       "      <th>2</th>\n",
       "      <td>476.0</td>\n",
       "      <td>762.0</td>\n",
       "      <td>1523.0</td>\n",
       "      <td>971.0</td>\n",
       "    </tr>\n",
       "    <tr>\n",
       "      <th>3</th>\n",
       "      <td>475.0</td>\n",
       "      <td>764.0</td>\n",
       "      <td>1521.0</td>\n",
       "      <td>969.0</td>\n",
       "    </tr>\n",
       "    <tr>\n",
       "      <th>4</th>\n",
       "      <td>478.0</td>\n",
       "      <td>765.0</td>\n",
       "      <td>1516.0</td>\n",
       "      <td>968.0</td>\n",
       "    </tr>\n",
       "  </tbody>\n",
       "</table>\n",
       "</div>"
      ],
      "text/plain": [
       "    left    top   right  bottom\n",
       "0  478.0  764.0  1519.0   969.0\n",
       "1  478.0  764.0  1519.0   969.0\n",
       "2  476.0  762.0  1523.0   971.0\n",
       "3  475.0  764.0  1521.0   969.0\n",
       "4  478.0  765.0  1516.0   968.0"
      ]
     },
     "execution_count": 42,
     "metadata": {},
     "output_type": "execute_result"
    }
   ],
   "source": [
    "df = pd.DataFrame([d['box_points'] for d in frame_list])\n",
    "df.columns = ['left', 'top', 'right', 'bottom']\n",
    "df.head()"
   ]
  },
  {
   "cell_type": "code",
   "execution_count": 43,
   "id": "4c8e1f01",
   "metadata": {},
   "outputs": [
    {
     "data": {
      "text/plain": [
       "Text(0, 0.5, 'Height (mm)')"
      ]
     },
     "execution_count": 43,
     "metadata": {},
     "output_type": "execute_result"
    },
    {
     "data": {
      "image/png": "[encoded data removed]",
      "text/plain": [
       "<Figure size 432x288 with 1 Axes>"
      ]
     },
     "metadata": {
      "needs_background": "light"
     },
     "output_type": "display_data"
    }
   ],
   "source": [
    "df['position'] = df[['bottom', 'top']].mean(axis=1)\n",
    "df['position_mm'] = - (df['position'] - df.loc[df.first_valid_index(), 'position']) * pixel_length\n",
    "\n",
    "plt.plot(df['position_mm'])\n",
    "plt.xlabel('Frame')\n",
    "plt.ylabel('Height (mm)')"
   ]
  },
  {
   "cell_type": "code",
   "execution_count": 44,
   "id": "d65b53e1",
   "metadata": {},
   "outputs": [
    {
     "name": "stdout",
     "output_type": "stream",
     "text": [
      "Row 566 implausible\n",
      "566\n"
     ]
    }
   ],
   "source": [
    "def test_plausability(index, n_past):\n",
    "    for n in range(1, n_past+1):\n",
    "        speed = (df.loc[index, 'position_mm'] - df.loc[index-n, 'position_mm']) * 30 / 1000 / n\n",
    "        if(abs(speed) > 10):\n",
    "            print('Row {} implausible'.format(index))\n",
    "            return False\n",
    "    return True\n",
    "    \n",
    "\n",
    "for i in range(1, len(df)):\n",
    "    if not test_plausability(i, min(i, 10)):\n",
    "        df.loc[i, 'position_mm'] = np.nan\n",
    "        print(i)"
   ]
  },
  {
   "cell_type": "code",
   "execution_count": 45,
   "id": "b0653c90",
   "metadata": {},
   "outputs": [
    {
     "data": {
      "text/plain": [
       "[[317, 318, 319, 320],\n",
       " [324, 325],\n",
       " [347],\n",
       " [363, 364],\n",
       " [368],\n",
       " [375],\n",
       " [441],\n",
       " [446],\n",
       " [449, 450, 451],\n",
       " [474, 475, 476, 477, 478, 479],\n",
       " [483, 484],\n",
       " [486, 487],\n",
       " [490, 491, 492, 493],\n",
       " [495, 496, 497, 498, 499, 500, 501, 502, 503],\n",
       " [506, 507, 508, 509, 510, 511],\n",
       " [540, 541, 542, 543, 544, 545, 546, 547, 548, 549, 550, 551, 552, 553],\n",
       " [555, 556],\n",
       " [564, 565, 566, 567, 568],\n",
       " [588, 589],\n",
       " [591, 592, 593],\n",
       " [602]]"
      ]
     },
     "execution_count": 45,
     "metadata": {},
     "output_type": "execute_result"
    }
   ],
   "source": [
    "null_rows = [index for index, row in df.iterrows() if row.isnull().any()]\n",
    "\n",
    "null_epochs = []\n",
    "epoch = []\n",
    "for i in range(0, len(null_rows)):\n",
    "\n",
    "    if (null_rows[i] - 1 == null_rows[i-1]):\n",
    "        epoch.append(null_rows[i])\n",
    "    else:\n",
    "        null_epochs.append(epoch)\n",
    "        epoch=[null_rows[i]]\n",
    "\n",
    "\n",
    "null_epochs.append(epoch) ## append last epoch after loop\n",
    "null_epochs.pop(0) ##drop first (empty) epoch\n",
    "if(0 in null_epochs[0]):\n",
    "    null_epochs.pop(0) ##drop first real epoch\n",
    "if((len(df)-1) in null_epochs[-1]):\n",
    "    null_epochs.pop(-1)\n",
    "\n",
    "null_epochs   "
   ]
  },
  {
   "cell_type": "code",
   "execution_count": 46,
   "id": "01326072",
   "metadata": {},
   "outputs": [
    {
     "data": {
      "text/plain": [
       "Text(0, 0.5, 'Height (mm)')"
      ]
     },
     "execution_count": 46,
     "metadata": {},
     "output_type": "execute_result"
    },
    {
     "data": {
      "image/png": "[encoded data removed]",
      "text/plain": [
       "<Figure size 432x288 with 1 Axes>"
      ]
     },
     "metadata": {
      "needs_background": "light"
     },
     "output_type": "display_data"
    }
   ],
   "source": [
    "def interpolate_position(indices):\n",
    "    l = len(indices)\n",
    "\n",
    "    start = df.loc[indices[0]-1, 'position_mm']\n",
    "    end = df.loc[indices[l-1]+1, 'position_mm']\n",
    "    \n",
    "    step = (end-start)/(l+1)\n",
    "\n",
    "    new_positions = [start + i*step for i in range(1,l+1)]\n",
    "    return(new_positions)\n",
    "  \n",
    "\n",
    "for epoch in null_epochs:\n",
    "    df.loc[epoch, 'position_mm'] = interpolate_position(epoch)\n",
    "    \n",
    "plt.plot(df['position_mm'])\n",
    "plt.xlabel('Frame')\n",
    "plt.ylabel('Height (mm)')"
   ]
  },
  {
   "cell_type": "code",
   "execution_count": 47,
   "id": "7b52e568",
   "metadata": {},
   "outputs": [
    {
     "data": {
      "text/plain": [
       "Text(0, 0.5, 'Height (mm)')"
      ]
     },
     "execution_count": 47,
     "metadata": {},
     "output_type": "execute_result"
    },
    {
     "data": {
      "image/png": "[encoded data removed]",
      "text/plain": [
       "<Figure size 432x288 with 1 Axes>"
      ]
     },
     "metadata": {
      "needs_background": "light"
     },
     "output_type": "display_data"
    }
   ],
   "source": [
    "df['position_mm'] = df['position_mm'].rolling(3, min_periods=1).mean()\n",
    "\n",
    "plt.plot(df['position_mm'])\n",
    "plt.xlabel('Frame')\n",
    "plt.ylabel('Height (mm)')"
   ]
  },
  {
   "cell_type": "code",
   "execution_count": 48,
   "id": "9798dff2",
   "metadata": {},
   "outputs": [
    {
     "data": {
      "text/plain": [
       "Text(0, 0.5, 'Height (mm)')"
      ]
     },
     "execution_count": 48,
     "metadata": {},
     "output_type": "execute_result"
    },
    {
     "data": {
      "image/png": "[encoded data removed]",
      "text/plain": [
       "<Figure size 432x288 with 1 Axes>"
      ]
     },
     "metadata": {
      "needs_background": "light"
     },
     "output_type": "display_data"
    }
   ],
   "source": [
    "df['position_reversed'] = df.loc[df.first_valid_index(), 'position'] - df['position_mm'] / pixel_length\n",
    "\n",
    "plt.plot(df['position_reversed'])\n",
    "plt.plot(df['position'])\n",
    "plt.xlabel('Frame')\n",
    "plt.ylabel('Height (mm)')"
   ]
  },
  {
   "cell_type": "code",
   "execution_count": 49,
   "id": "0b816d31",
   "metadata": {},
   "outputs": [
    {
     "data": {
      "text/plain": [
       "Text(0, 0.5, 'Speed (m/s)')"
      ]
     },
     "execution_count": 49,
     "metadata": {},
     "output_type": "execute_result"
    },
    {
     "data": {
      "image/png": "[encoded data removed]",
      "text/plain": [
       "<Figure size 432x288 with 1 Axes>"
      ]
     },
     "metadata": {
      "needs_background": "light"
     },
     "output_type": "display_data"
    }
   ],
   "source": [
    "df['speed_ms'] = df['position_mm'].diff(1) * 30 / 1000\n",
    "df.loc[(df['speed_ms'] < 0.1) & (df['speed_ms'] > -0.1), 'speed_ms'] = 0.0\n",
    "df['speed_ms'].fillna(0.0, inplace=True)\n",
    "\n",
    "plt.plot(df['speed_ms'])\n",
    "plt.xlabel('Frame')\n",
    "plt.ylabel('Speed (m/s)')"
   ]
  },
  {
   "cell_type": "code",
   "execution_count": 50,
   "id": "2ed1956e",
   "metadata": {},
   "outputs": [
    {
     "data": {
      "text/plain": [
       "Text(0, 0.5, 'Acceleration (m/s²)')"
      ]
     },
     "execution_count": 50,
     "metadata": {},
     "output_type": "execute_result"
    },
    {
     "data": {
      "image/png": "[encoded data removed]",
      "text/plain": [
       "<Figure size 432x288 with 1 Axes>"
      ]
     },
     "metadata": {
      "needs_background": "light"
     },
     "output_type": "display_data"
    }
   ],
   "source": [
    "df['acceleration_ms2'] = df['speed_ms'].diff(1)\n",
    "\n",
    "plt.plot(df['acceleration_ms2'])\n",
    "plt.xlabel('Frame')\n",
    "plt.ylabel('Acceleration (m/s²)')"
   ]
  },
  {
   "cell_type": "code",
   "execution_count": 52,
   "id": "d007decd",
   "metadata": {},
   "outputs": [
    {
     "name": "stdout",
     "output_type": "stream",
     "text": [
      "Can't receive frame (stream end?). Exiting ...\n"
     ]
    }
   ],
   "source": [
    "cap = cv.VideoCapture('videos/video_{}.mp4'.format(video_number))\n",
    "out = cv.VideoWriter('videos/video_{}_f.mp4'.format(video_number), cv.VideoWriter_fourcc(*'MP4V'), 30.0, (width,height))\n",
    "\n",
    "while cap.isOpened():\n",
    "    ret, frame = cap.read()\n",
    "    # if frame is read correctly ret is True\n",
    "    if not ret:\n",
    "        print(\"Can't receive frame (stream end?). Exiting ...\")\n",
    "        break\n",
    "\n",
    "    frame_number = int(cap.get(cv.CAP_PROP_POS_FRAMES)) - 1\n",
    "    pos = df.loc[frame_number]\n",
    "    \n",
    "    if(pos[0] == pos[0]):\n",
    "        frame = cv.rectangle(frame, (int(pos[0]), int(pos[1])), (int(pos[2]), int(pos[3])), (255,0,0), 1)\n",
    "    \n",
    "    ### height marker\n",
    "    frame = cv.line(frame, (0,int(pos[6])),(50,int(pos[6])),(255,255,255),3)\n",
    "    frame = cv.putText(frame, str(int(pos[5]) + 225), (10, int(pos[6] - 20)), cv.FONT_HERSHEY_SIMPLEX, 1, (255, 255, 255), 1, cv.LINE_AA)\n",
    "    frame = cv.putText(frame, 'mm', (10, int(pos[6] + 40)), cv.FONT_HERSHEY_SIMPLEX, 1, (255, 255, 255), 1, cv.LINE_AA)\n",
    "    \n",
    "    out.write(frame)\n",
    "    #cv.imshow('frame', frame)\n",
    "    if cv.waitKey(1) == ord('q'):\n",
    "        break\n",
    "cap.release()\n",
    "out.release()\n",
    "cv.destroyAllWindows()"
   ]
  },
  {
   "cell_type": "code",
   "execution_count": null,
   "id": "d05fc6fd",
   "metadata": {},
   "outputs": [],
   "source": []
  },
  {
   "cell_type": "code",
   "execution_count": null,
   "id": "e3f01cc1",
   "metadata": {},
   "outputs": [],
   "source": []
  }
 ],
 "metadata": {
  "kernelspec": {
   "display_name": "Python 3",
   "language": "python",
   "name": "python3"
  },
  "language_info": {
   "codemirror_mode": {
    "name": "ipython",
    "version": 3
   },
   "file_extension": ".py",
   "mimetype": "text/x-python",
   "name": "python",
   "nbconvert_exporter": "python",
   "pygments_lexer": "ipython3",
   "version": "3.8.8"
  }
 },
 "nbformat": 4,
 "nbformat_minor": 5
}
