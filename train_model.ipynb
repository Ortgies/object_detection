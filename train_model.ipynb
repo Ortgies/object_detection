{
 "cells": [
  {
   "cell_type": "code",
   "execution_count": null,
   "id": "bc376236",
   "metadata": {},
   "outputs": [],
   "source": [
    "from imageai.Detection.Custom import DetectionModelTrainer"
   ]
  },
  {
   "cell_type": "code",
   "execution_count": null,
   "id": "d06c5000",
   "metadata": {},
   "outputs": [],
   "source": [
    "## train the detection models\n",
    "trainer = DetectionModelTrainer()\n",
    "trainer.setModelTypeAsYOLOv3()\n",
    "trainer.setDataDirectory(data_directory=\"/content/drive/MyDrive/bar\")\n",
    "trainer.setTrainConfig(object_names_array=[\"bar\"], batch_size=4, num_experiments=50, train_from_pretrained_model=\"/content/drive/MyDrive/bar/pretrained-yolov3.h5\")\n",
    "trainer.trainModel()"
   ]
  },
  {
   "cell_type": "code",
   "execution_count": null,
   "id": "230723d9",
   "metadata": {},
   "outputs": [],
   "source": [
    "## evaluate models\n",
    "trainer = DetectionModelTrainer()\n",
    "trainer.setModelTypeAsYOLOv3()\n",
    "trainer.setDataDirectory(data_directory=\"/content/drive/MyDrive/bar\")\n",
    "trainer.evaluateModel(model_path=\"/content/drive/MyDrive/bar/models\", json_path=\"/content/drive/MyDrive/bar/json/detection_config.json\", iou_threshold=0.5, object_threshold=0.3, nms_threshold=0.5)"
   ]
  }
 ],
 "metadata": {
  "kernelspec": {
   "display_name": "Python 3",
   "language": "python",
   "name": "python3"
  },
  "language_info": {
   "codemirror_mode": {
    "name": "ipython",
    "version": 3
   },
   "file_extension": ".py",
   "mimetype": "text/x-python",
   "name": "python",
   "nbconvert_exporter": "python",
   "pygments_lexer": "ipython3",
   "version": "3.8.8"
  }
 },
 "nbformat": 4,
 "nbformat_minor": 5
}
